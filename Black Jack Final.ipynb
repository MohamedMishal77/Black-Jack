{
 "cells": [
  {
   "cell_type": "markdown",
   "id": "c7dae51d-d975-46e8-8924-512f372a335d",
   "metadata": {},
   "source": [
    "# BLACK JACK"
   ]
  },
  {
   "cell_type": "markdown",
   "id": "51a49d7b-18d3-45ce-8c83-e4c376676877",
   "metadata": {},
   "source": [
    "### Initializing"
   ]
  },
  {
   "cell_type": "code",
   "execution_count": 1,
   "id": "1cc85d74-bb7e-42ea-bf27-89ea73a2593f",
   "metadata": {},
   "outputs": [],
   "source": [
    "import random\n",
    "\n",
    "suits = ('Hearts', 'Diamonds', 'Spades', 'Clubs')\n",
    "ranks = ('Two', 'Three', 'Four', 'Five', 'Six', 'Seven', 'Eight', 'Nine', 'Ten', 'Jack', 'Queen', 'King', 'Ace')\n",
    "values = {'Two':2, 'Three':3, 'Four':4, 'Five':5, 'Six':6, 'Seven':7, 'Eight':8, 'Nine':9, 'Ten':10, 'Jack':10,\n",
    "         'Queen':10, 'King':10, 'Ace':11}\n",
    "\n",
    "playing = True"
   ]
  },
  {
   "cell_type": "markdown",
   "id": "1952a2e1-6e65-4061-9d90-4cc3fbeda04e",
   "metadata": {},
   "source": [
    "### The Card Class!"
   ]
  },
  {
   "cell_type": "code",
   "execution_count": 2,
   "id": "19717b23-4b77-4c6b-b92e-15c693bb8203",
   "metadata": {},
   "outputs": [],
   "source": [
    "class Card:\n",
    "\n",
    "    def __init__(self,suit,rank):\n",
    "        self.suit = suit\n",
    "        self.rank = rank\n",
    "        \n",
    "    def __str__(self):\n",
    "        return self.rank + ' of ' + self.suit"
   ]
  },
  {
   "cell_type": "markdown",
   "id": "bd156a19-a813-434b-82e4-d25785d4074a",
   "metadata": {},
   "source": [
    "### The Deck Class"
   ]
  },
  {
   "cell_type": "code",
   "execution_count": 3,
   "id": "112832bd-23ff-494d-af15-b6d88a0adc27",
   "metadata": {},
   "outputs": [],
   "source": [
    "class Deck:\n",
    "    \n",
    "    def __init__(self):\n",
    "        self.deck = []  # start with an empty list\n",
    "        for suit in suits:\n",
    "            for rank in ranks:\n",
    "                self.deck.append(Card(suit,rank))  # build Card objects and add them to the list\n",
    "    \n",
    "    def __str__(self):\n",
    "        deck_comp = ''  # start with an empty string\n",
    "        for card in self.deck:\n",
    "            deck_comp += '\\n '+card.__str__() # add each Card object's print string\n",
    "        return 'The deck has:' + deck_comp\n",
    "\n",
    "    def shuffle(self):\n",
    "        random.shuffle(self.deck)\n",
    "        \n",
    "    def deal(self):\n",
    "        single_card = self.deck.pop()\n",
    "        return single_card"
   ]
  },
  {
   "cell_type": "markdown",
   "id": "83271efb-8acb-4b8a-abe8-00517b5126a9",
   "metadata": {},
   "source": [
    "### The Hand Class!!"
   ]
  },
  {
   "cell_type": "markdown",
   "id": "9bcb1e48-6c7b-4132-ab01-87bbaad8559f",
   "metadata": {},
   "source": [
    "*The Hand class enables players to holding card objects and used to calculate the value of those cards using the values dictionary defined above. Its also used to adjust for the value of Aces when appropriate.*"
   ]
  },
  {
   "cell_type": "code",
   "execution_count": 4,
   "id": "5dfb65c8-ee21-4c30-af85-111e193160f0",
   "metadata": {},
   "outputs": [],
   "source": [
    "class Hand:\n",
    "    \n",
    "    def __init__(self):\n",
    "        self.cards = []  # start with an empty list as we did in the Deck class\n",
    "        self.value = 0   # start with zero value\n",
    "        self.aces = 0    # add an attribute to keep track of aces\n",
    "    \n",
    "    def add_card(self,card):\n",
    "        self.cards.append(card)\n",
    "        self.value += values[card.rank]\n",
    "        if card.rank == 'Ace':\n",
    "            self.aces += 1  # add to self.aces\n",
    "    \n",
    "    def adjust_for_ace(self):\n",
    "        while self.value > 21 and self.aces:\n",
    "            self.value -= 10\n",
    "            self.aces -= 1 "
   ]
  },
  {
   "cell_type": "markdown",
   "id": "d2f1d66a-58ec-43d4-9e8b-6f05d1d864e1",
   "metadata": {},
   "source": [
    "### Chip Class!!"
   ]
  },
  {
   "cell_type": "markdown",
   "id": "0379132e-2163-4de0-a9d3-cd51a8ccf9cb",
   "metadata": {},
   "source": [
    "*Used to keep track of a Player's starting chips, bets, and ongoing winnings. This could be done using global variables, but in the spirit of object oriented programming, let's make a Chips class instead!*"
   ]
  },
  {
   "cell_type": "code",
   "execution_count": 5,
   "id": "6e652973-0918-4f15-9f07-abda01881247",
   "metadata": {},
   "outputs": [],
   "source": [
    "class Chips:\n",
    "    \n",
    "    def __init__(self):\n",
    "        self.total = 100  # This can be set to a default value or supplied by a user input\n",
    "        self.bet = 0\n",
    "        \n",
    "    def win_bet(self):\n",
    "        self.total += self.bet\n",
    "    \n",
    "    def lose_bet(self):\n",
    "        self.total -= self.bet"
   ]
  },
  {
   "cell_type": "markdown",
   "id": "68b9f910-44b6-42e7-82c8-e2c0c1631331",
   "metadata": {},
   "source": [
    "### Function for taking bets!"
   ]
  },
  {
   "cell_type": "code",
   "execution_count": 6,
   "id": "d243e25e-9945-46ef-9413-f0647cf14990",
   "metadata": {},
   "outputs": [],
   "source": [
    "def take_bet(chips):\n",
    "    \n",
    "    while True:\n",
    "        try:\n",
    "            chips.bet = int(input('How many chips would you like to bet? '))\n",
    "        except ValueError:\n",
    "            print('Sorry, a bet must be an integer!')\n",
    "        else:\n",
    "            if chips.bet > chips.total:\n",
    "                print(\"Sorry, your bet can't exceed\",chips.total)\n",
    "            else:\n",
    "                break"
   ]
  },
  {
   "cell_type": "markdown",
   "id": "8a95b8d5-6d91-4ac0-8cad-93aaa052554c",
   "metadata": {},
   "source": [
    "### Function for taking hits!"
   ]
  },
  {
   "cell_type": "code",
   "execution_count": 7,
   "id": "050f2a60-993f-416a-9256-c4172bb2630a",
   "metadata": {},
   "outputs": [],
   "source": [
    "def hit(deck,hand):\n",
    "    \n",
    "    hand.add_card(deck.deal())\n",
    "    hand.adjust_for_ace()"
   ]
  },
  {
   "cell_type": "markdown",
   "id": "5627b537-b474-4e4e-9a02-110ebda75a5a",
   "metadata": {},
   "source": [
    "### Function for the player to hit or stand!"
   ]
  },
  {
   "cell_type": "code",
   "execution_count": 8,
   "id": "199bce05-e230-45c2-9a8a-7190cd290cf9",
   "metadata": {},
   "outputs": [],
   "source": [
    "def hit_or_stand(deck,hand):\n",
    "    global playing  # to control an upcoming while loop\n",
    "    \n",
    "    while True:\n",
    "        x = input(\"Would you like to Hit or Stand? Enter 'h' or 's' \")\n",
    "        \n",
    "        if x[0].lower() == 'h':\n",
    "            hit(deck,hand)  # hit() function defined above\n",
    "\n",
    "        elif x[0].lower() == 's':\n",
    "            print(\"Player stands. Dealer is playing.\")\n",
    "            playing = False\n",
    "\n",
    "        else:\n",
    "            print(\"Sorry, please try again.\")\n",
    "            continue\n",
    "        break"
   ]
  },
  {
   "cell_type": "markdown",
   "id": "826741b9-6a42-4765-8fde-184fe7712db4",
   "metadata": {},
   "source": [
    "### Function to display Cards"
   ]
  },
  {
   "cell_type": "code",
   "execution_count": 9,
   "id": "882c2e65-2d0e-41ec-afbc-1f09839f594b",
   "metadata": {},
   "outputs": [],
   "source": [
    "def show_some(player,dealer):\n",
    "    print(\"\\nDealer's Hand:\")\n",
    "    print(\" <card hidden>\")\n",
    "    print('',dealer.cards[1])  \n",
    "    print(\"\\nPlayer's Hand:\", *player.cards, sep='\\n ')\n",
    "    \n",
    "def show_all(player,dealer):\n",
    "    print(\"\\nDealer's Hand:\", *dealer.cards, sep='\\n ')\n",
    "    print(\"Dealer's Hand =\",dealer.value)\n",
    "    print(\"\\nPlayer's Hand:\", *player.cards, sep='\\n ')\n",
    "    print(\"Player's Hand =\",player.value)"
   ]
  },
  {
   "cell_type": "markdown",
   "id": "98a9bce6-8d09-4ba6-9245-5c9978e47ed6",
   "metadata": {},
   "source": [
    "### Function to handle the end of game senarios"
   ]
  },
  {
   "cell_type": "code",
   "execution_count": 10,
   "id": "be108d55-9766-4731-95c2-7307987e8534",
   "metadata": {},
   "outputs": [],
   "source": [
    "def player_busts(player,dealer,chips):\n",
    "    print(\"Player busts!\")\n",
    "    chips.lose_bet()\n",
    "\n",
    "def player_wins(player,dealer,chips):\n",
    "    print(\"Player wins!\")\n",
    "    chips.win_bet()\n",
    "\n",
    "def dealer_busts(player,dealer,chips):\n",
    "    print(\"Dealer busts!\")\n",
    "    chips.win_bet()\n",
    "    \n",
    "def dealer_wins(player,dealer,chips):\n",
    "    print(\"Dealer wins!\")\n",
    "    chips.lose_bet()\n",
    "    \n",
    "def push(player,dealer):\n",
    "    print(\"Dealer and Player tie! It's a push.\")"
   ]
  },
  {
   "cell_type": "markdown",
   "id": "2e585f86-611e-48f3-adf8-5fa3d18131db",
   "metadata": {},
   "source": [
    "## Lets Playy!"
   ]
  },
  {
   "cell_type": "code",
   "execution_count": 11,
   "id": "057b1f25-0647-46eb-901f-eecd8fcb0fb2",
   "metadata": {},
   "outputs": [
    {
     "name": "stdout",
     "output_type": "stream",
     "text": [
      "Welcome to BlackJack! Get as close to 21 as you can without going over!\n",
      "    Dealer hits until she reaches 17. Aces count as 1 or 11.\n"
     ]
    },
    {
     "name": "stdin",
     "output_type": "stream",
     "text": [
      "How many chips would you like to bet?  6\n"
     ]
    },
    {
     "name": "stdout",
     "output_type": "stream",
     "text": [
      "\n",
      "Dealer's Hand:\n",
      " <card hidden>\n",
      " Ace of Hearts\n",
      "\n",
      "Player's Hand:\n",
      " Nine of Clubs\n",
      " Jack of Clubs\n"
     ]
    },
    {
     "name": "stdin",
     "output_type": "stream",
     "text": [
      "Would you like to Hit or Stand? Enter 'h' or 's'  s\n"
     ]
    },
    {
     "name": "stdout",
     "output_type": "stream",
     "text": [
      "Player stands. Dealer is playing.\n",
      "\n",
      "Dealer's Hand:\n",
      " <card hidden>\n",
      " Ace of Hearts\n",
      "\n",
      "Player's Hand:\n",
      " Nine of Clubs\n",
      " Jack of Clubs\n",
      "\n",
      "Dealer's Hand:\n",
      " Three of Diamonds\n",
      " Ace of Hearts\n",
      " Seven of Diamonds\n",
      "Dealer's Hand = 21\n",
      "\n",
      "Player's Hand:\n",
      " Nine of Clubs\n",
      " Jack of Clubs\n",
      "Player's Hand = 19\n",
      "Dealer wins!\n",
      "\n",
      "Player's winnings stand at 94\n"
     ]
    },
    {
     "name": "stdin",
     "output_type": "stream",
     "text": [
      "Would you like to play another hand? Enter 'y' or 'n'  y\n"
     ]
    },
    {
     "name": "stdout",
     "output_type": "stream",
     "text": [
      "Welcome to BlackJack! Get as close to 21 as you can without going over!\n",
      "    Dealer hits until she reaches 17. Aces count as 1 or 11.\n"
     ]
    },
    {
     "name": "stdin",
     "output_type": "stream",
     "text": [
      "How many chips would you like to bet?  2\n"
     ]
    },
    {
     "name": "stdout",
     "output_type": "stream",
     "text": [
      "\n",
      "Dealer's Hand:\n",
      " <card hidden>\n",
      " Seven of Spades\n",
      "\n",
      "Player's Hand:\n",
      " Eight of Diamonds\n",
      " Ten of Hearts\n"
     ]
    },
    {
     "name": "stdin",
     "output_type": "stream",
     "text": [
      "Would you like to Hit or Stand? Enter 'h' or 's'  s\n"
     ]
    },
    {
     "name": "stdout",
     "output_type": "stream",
     "text": [
      "Player stands. Dealer is playing.\n",
      "\n",
      "Dealer's Hand:\n",
      " <card hidden>\n",
      " Seven of Spades\n",
      "\n",
      "Player's Hand:\n",
      " Eight of Diamonds\n",
      " Ten of Hearts\n",
      "\n",
      "Dealer's Hand:\n",
      " King of Diamonds\n",
      " Seven of Spades\n",
      "Dealer's Hand = 17\n",
      "\n",
      "Player's Hand:\n",
      " Eight of Diamonds\n",
      " Ten of Hearts\n",
      "Player's Hand = 18\n",
      "Player wins!\n",
      "\n",
      "Player's winnings stand at 102\n"
     ]
    },
    {
     "name": "stdin",
     "output_type": "stream",
     "text": [
      "Would you like to play another hand? Enter 'y' or 'n'  n\n"
     ]
    },
    {
     "name": "stdout",
     "output_type": "stream",
     "text": [
      "Thanks for playing!\n"
     ]
    }
   ],
   "source": [
    "while True:\n",
    "    # Print an opening statement\n",
    "    print('Welcome to BlackJack! Get as close to 21 as you can without going over!\\n\\\n",
    "    Dealer hits until she reaches 17. Aces count as 1 or 11.')\n",
    "    \n",
    "    # Create & shuffle the deck, deal two cards to each player\n",
    "    deck = Deck()\n",
    "    deck.shuffle()\n",
    "    \n",
    "    player_hand = Hand()\n",
    "    player_hand.add_card(deck.deal())\n",
    "    player_hand.add_card(deck.deal())\n",
    "    \n",
    "    dealer_hand = Hand()\n",
    "    dealer_hand.add_card(deck.deal())\n",
    "    dealer_hand.add_card(deck.deal())\n",
    "            \n",
    "    # Set up the Player's chips\n",
    "    player_chips = Chips()  # remember the default value is 100    \n",
    "    \n",
    "    # Prompt the Player for their bet\n",
    "    take_bet(player_chips)\n",
    "    \n",
    "    # Show cards (but keep one dealer card hidden)\n",
    "    show_some(player_hand,dealer_hand)\n",
    "    \n",
    "    while playing:  # recall this variable from our hit_or_stand function\n",
    "        \n",
    "        # Prompt for Player to Hit or Stand\n",
    "        hit_or_stand(deck,player_hand) \n",
    "        \n",
    "        # Show cards (but keep one dealer card hidden)\n",
    "        show_some(player_hand,dealer_hand)  \n",
    "        \n",
    "        # If player's hand exceeds 21, run player_busts() and break out of loop\n",
    "        if player_hand.value > 21:\n",
    "            player_busts(player_hand,dealer_hand,player_chips)\n",
    "            break        \n",
    "\n",
    "\n",
    "    # If Player hasn't busted, play Dealer's hand until Dealer reaches 17 \n",
    "    if player_hand.value <= 21:\n",
    "        \n",
    "        while dealer_hand.value < 17:\n",
    "            hit(deck,dealer_hand)    \n",
    "    \n",
    "        # Show all cards\n",
    "        show_all(player_hand,dealer_hand)\n",
    "        \n",
    "        # Run different winning scenarios\n",
    "        if dealer_hand.value > 21:\n",
    "            dealer_busts(player_hand,dealer_hand,player_chips)\n",
    "\n",
    "        elif dealer_hand.value > player_hand.value:\n",
    "            dealer_wins(player_hand,dealer_hand,player_chips)\n",
    "\n",
    "        elif dealer_hand.value < player_hand.value:\n",
    "            player_wins(player_hand,dealer_hand,player_chips)\n",
    "\n",
    "        else:\n",
    "            push(player_hand,dealer_hand)        \n",
    "    \n",
    "    # Inform Player of their chips total \n",
    "    print(\"\\nPlayer's winnings stand at\",player_chips.total)\n",
    "    \n",
    "    # Ask to play again\n",
    "    new_game = input(\"Would you like to play another hand? Enter 'y' or 'n' \")\n",
    "    \n",
    "    if new_game[0].lower()=='y':\n",
    "        playing=True\n",
    "        continue\n",
    "    else:\n",
    "        print(\"Thanks for playing!\")\n",
    "        break"
   ]
  },
  {
   "cell_type": "code",
   "execution_count": null,
   "id": "08d1738f-a79d-4e58-81a9-08c6497df339",
   "metadata": {},
   "outputs": [],
   "source": []
  },
  {
   "cell_type": "markdown",
   "id": "51576f0b-11da-49f1-af19-b0a840e4afa3",
   "metadata": {},
   "source": [
    "#### THE GAME WAS SPECIFICALLY DESIGNED TO BE IMPLEMENTED USING OOPS CONCEPTS!!!!"
   ]
  }
 ],
 "metadata": {
  "kernelspec": {
   "display_name": "Python 3 (ipykernel)",
   "language": "python",
   "name": "python3"
  },
  "language_info": {
   "codemirror_mode": {
    "name": "ipython",
    "version": 3
   },
   "file_extension": ".py",
   "mimetype": "text/x-python",
   "name": "python",
   "nbconvert_exporter": "python",
   "pygments_lexer": "ipython3",
   "version": "3.12.4"
  }
 },
 "nbformat": 4,
 "nbformat_minor": 5
}
